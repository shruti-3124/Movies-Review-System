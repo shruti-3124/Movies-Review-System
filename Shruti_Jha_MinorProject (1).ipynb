{
  "nbformat": 4,
  "nbformat_minor": 0,
  "metadata": {
    "colab": {
      "provenance": []
    },
    "kernelspec": {
      "name": "python3",
      "display_name": "Python 3"
    },
    "language_info": {
      "name": "python"
    }
  },
  "cells": [
    {
      "cell_type": "markdown",
      "source": [
        "# **MINOR PROJECT**\n",
        "\n",
        "---\n",
        "\n",
        "\n",
        "\n",
        "\n"
      ],
      "metadata": {
        "id": "3j27_cT6kBA6"
      }
    },
    {
      "cell_type": "code",
      "source": [
        "#importing libraries\n",
        "import numpy as np\n",
        "import pandas as pd\n",
        "import matplotlib.pyplot as plt\n"
      ],
      "metadata": {
        "id": "W0CHhV2OcMfI"
      },
      "execution_count": null,
      "outputs": []
    },
    {
      "cell_type": "code",
      "source": [
        "#loading dataset\n",
        "df=pd.read_csv('movies.csv')"
      ],
      "metadata": {
        "id": "r-SInVzAcMRr"
      },
      "execution_count": null,
      "outputs": []
    },
    {
      "cell_type": "code",
      "source": [
        "df.head(10)"
      ],
      "metadata": {
        "id": "pSfiDcAWcL_7",
        "colab": {
          "base_uri": "https://localhost:8080/",
          "height": 392
        },
        "outputId": "a419d682-9068-47a9-cff5-14734ba53640"
      },
      "execution_count": null,
      "outputs": [
        {
          "output_type": "execute_result",
          "data": {
            "text/plain": [
              "   Unnamed: 0                     title  year  length  budget  rating  votes  \\\n",
              "0           1                         $  1971     121     NaN     6.4    348   \n",
              "1           2         $1000 a Touchdown  1939      71     NaN     6.0     20   \n",
              "2           3    $21 a Day Once a Month  1941       7     NaN     8.2      5   \n",
              "3           4                   $40,000  1996      70     NaN     8.2      6   \n",
              "4           5  $50,000 Climax Show, The  1975      71     NaN     3.4     17   \n",
              "5           6                     $pent  2000      91     NaN     4.3     45   \n",
              "6           7                   $windle  2002      93     NaN     5.3    200   \n",
              "7           8                      '15'  2002      25     NaN     6.7     24   \n",
              "8           9                       '38  1987      97     NaN     6.6     18   \n",
              "9          10                   '49-'17  1917      61     NaN     6.0     51   \n",
              "\n",
              "     r1    r2   r3  ...    r9   r10  mpaa  Action  Animation  Comedy  Drama  \\\n",
              "0   4.5   4.5  4.5  ...   4.5   4.5   NaN       0          0       1      1   \n",
              "1   0.0  14.5  4.5  ...   4.5  14.5   NaN       0          0       1      0   \n",
              "2   0.0   0.0  0.0  ...  24.5  24.5   NaN       0          1       0      0   \n",
              "3  14.5   0.0  0.0  ...  34.5  45.5   NaN       0          0       1      0   \n",
              "4  24.5   4.5  0.0  ...   0.0  24.5   NaN       0          0       0      0   \n",
              "5   4.5   4.5  4.5  ...  14.5  14.5   NaN       0          0       0      1   \n",
              "6   4.5   0.0  4.5  ...   4.5  14.5     R       1          0       0      1   \n",
              "7   4.5   4.5  4.5  ...   4.5  14.5   NaN       0          0       0      0   \n",
              "8   4.5   4.5  4.5  ...   4.5  24.5   NaN       0          0       0      1   \n",
              "9   4.5   0.0  4.5  ...   4.5   4.5   NaN       0          0       0      0   \n",
              "\n",
              "  Documentary  Romance  Short  \n",
              "0           0        0      0  \n",
              "1           0        0      0  \n",
              "2           0        0      1  \n",
              "3           0        0      0  \n",
              "4           0        0      0  \n",
              "5           0        0      0  \n",
              "6           0        0      0  \n",
              "7           1        0      1  \n",
              "8           0        0      0  \n",
              "9           0        0      0  \n",
              "\n",
              "[10 rows x 25 columns]"
            ],
            "text/html": [
              "\n",
              "  <div id=\"df-2a1978f3-f8c5-44d1-a977-943b9b866ea4\">\n",
              "    <div class=\"colab-df-container\">\n",
              "      <div>\n",
              "<style scoped>\n",
              "    .dataframe tbody tr th:only-of-type {\n",
              "        vertical-align: middle;\n",
              "    }\n",
              "\n",
              "    .dataframe tbody tr th {\n",
              "        vertical-align: top;\n",
              "    }\n",
              "\n",
              "    .dataframe thead th {\n",
              "        text-align: right;\n",
              "    }\n",
              "</style>\n",
              "<table border=\"1\" class=\"dataframe\">\n",
              "  <thead>\n",
              "    <tr style=\"text-align: right;\">\n",
              "      <th></th>\n",
              "      <th>Unnamed: 0</th>\n",
              "      <th>title</th>\n",
              "      <th>year</th>\n",
              "      <th>length</th>\n",
              "      <th>budget</th>\n",
              "      <th>rating</th>\n",
              "      <th>votes</th>\n",
              "      <th>r1</th>\n",
              "      <th>r2</th>\n",
              "      <th>r3</th>\n",
              "      <th>...</th>\n",
              "      <th>r9</th>\n",
              "      <th>r10</th>\n",
              "      <th>mpaa</th>\n",
              "      <th>Action</th>\n",
              "      <th>Animation</th>\n",
              "      <th>Comedy</th>\n",
              "      <th>Drama</th>\n",
              "      <th>Documentary</th>\n",
              "      <th>Romance</th>\n",
              "      <th>Short</th>\n",
              "    </tr>\n",
              "  </thead>\n",
              "  <tbody>\n",
              "    <tr>\n",
              "      <th>0</th>\n",
              "      <td>1</td>\n",
              "      <td>$</td>\n",
              "      <td>1971</td>\n",
              "      <td>121</td>\n",
              "      <td>NaN</td>\n",
              "      <td>6.4</td>\n",
              "      <td>348</td>\n",
              "      <td>4.5</td>\n",
              "      <td>4.5</td>\n",
              "      <td>4.5</td>\n",
              "      <td>...</td>\n",
              "      <td>4.5</td>\n",
              "      <td>4.5</td>\n",
              "      <td>NaN</td>\n",
              "      <td>0</td>\n",
              "      <td>0</td>\n",
              "      <td>1</td>\n",
              "      <td>1</td>\n",
              "      <td>0</td>\n",
              "      <td>0</td>\n",
              "      <td>0</td>\n",
              "    </tr>\n",
              "    <tr>\n",
              "      <th>1</th>\n",
              "      <td>2</td>\n",
              "      <td>$1000 a Touchdown</td>\n",
              "      <td>1939</td>\n",
              "      <td>71</td>\n",
              "      <td>NaN</td>\n",
              "      <td>6.0</td>\n",
              "      <td>20</td>\n",
              "      <td>0.0</td>\n",
              "      <td>14.5</td>\n",
              "      <td>4.5</td>\n",
              "      <td>...</td>\n",
              "      <td>4.5</td>\n",
              "      <td>14.5</td>\n",
              "      <td>NaN</td>\n",
              "      <td>0</td>\n",
              "      <td>0</td>\n",
              "      <td>1</td>\n",
              "      <td>0</td>\n",
              "      <td>0</td>\n",
              "      <td>0</td>\n",
              "      <td>0</td>\n",
              "    </tr>\n",
              "    <tr>\n",
              "      <th>2</th>\n",
              "      <td>3</td>\n",
              "      <td>$21 a Day Once a Month</td>\n",
              "      <td>1941</td>\n",
              "      <td>7</td>\n",
              "      <td>NaN</td>\n",
              "      <td>8.2</td>\n",
              "      <td>5</td>\n",
              "      <td>0.0</td>\n",
              "      <td>0.0</td>\n",
              "      <td>0.0</td>\n",
              "      <td>...</td>\n",
              "      <td>24.5</td>\n",
              "      <td>24.5</td>\n",
              "      <td>NaN</td>\n",
              "      <td>0</td>\n",
              "      <td>1</td>\n",
              "      <td>0</td>\n",
              "      <td>0</td>\n",
              "      <td>0</td>\n",
              "      <td>0</td>\n",
              "      <td>1</td>\n",
              "    </tr>\n",
              "    <tr>\n",
              "      <th>3</th>\n",
              "      <td>4</td>\n",
              "      <td>$40,000</td>\n",
              "      <td>1996</td>\n",
              "      <td>70</td>\n",
              "      <td>NaN</td>\n",
              "      <td>8.2</td>\n",
              "      <td>6</td>\n",
              "      <td>14.5</td>\n",
              "      <td>0.0</td>\n",
              "      <td>0.0</td>\n",
              "      <td>...</td>\n",
              "      <td>34.5</td>\n",
              "      <td>45.5</td>\n",
              "      <td>NaN</td>\n",
              "      <td>0</td>\n",
              "      <td>0</td>\n",
              "      <td>1</td>\n",
              "      <td>0</td>\n",
              "      <td>0</td>\n",
              "      <td>0</td>\n",
              "      <td>0</td>\n",
              "    </tr>\n",
              "    <tr>\n",
              "      <th>4</th>\n",
              "      <td>5</td>\n",
              "      <td>$50,000 Climax Show, The</td>\n",
              "      <td>1975</td>\n",
              "      <td>71</td>\n",
              "      <td>NaN</td>\n",
              "      <td>3.4</td>\n",
              "      <td>17</td>\n",
              "      <td>24.5</td>\n",
              "      <td>4.5</td>\n",
              "      <td>0.0</td>\n",
              "      <td>...</td>\n",
              "      <td>0.0</td>\n",
              "      <td>24.5</td>\n",
              "      <td>NaN</td>\n",
              "      <td>0</td>\n",
              "      <td>0</td>\n",
              "      <td>0</td>\n",
              "      <td>0</td>\n",
              "      <td>0</td>\n",
              "      <td>0</td>\n",
              "      <td>0</td>\n",
              "    </tr>\n",
              "    <tr>\n",
              "      <th>5</th>\n",
              "      <td>6</td>\n",
              "      <td>$pent</td>\n",
              "      <td>2000</td>\n",
              "      <td>91</td>\n",
              "      <td>NaN</td>\n",
              "      <td>4.3</td>\n",
              "      <td>45</td>\n",
              "      <td>4.5</td>\n",
              "      <td>4.5</td>\n",
              "      <td>4.5</td>\n",
              "      <td>...</td>\n",
              "      <td>14.5</td>\n",
              "      <td>14.5</td>\n",
              "      <td>NaN</td>\n",
              "      <td>0</td>\n",
              "      <td>0</td>\n",
              "      <td>0</td>\n",
              "      <td>1</td>\n",
              "      <td>0</td>\n",
              "      <td>0</td>\n",
              "      <td>0</td>\n",
              "    </tr>\n",
              "    <tr>\n",
              "      <th>6</th>\n",
              "      <td>7</td>\n",
              "      <td>$windle</td>\n",
              "      <td>2002</td>\n",
              "      <td>93</td>\n",
              "      <td>NaN</td>\n",
              "      <td>5.3</td>\n",
              "      <td>200</td>\n",
              "      <td>4.5</td>\n",
              "      <td>0.0</td>\n",
              "      <td>4.5</td>\n",
              "      <td>...</td>\n",
              "      <td>4.5</td>\n",
              "      <td>14.5</td>\n",
              "      <td>R</td>\n",
              "      <td>1</td>\n",
              "      <td>0</td>\n",
              "      <td>0</td>\n",
              "      <td>1</td>\n",
              "      <td>0</td>\n",
              "      <td>0</td>\n",
              "      <td>0</td>\n",
              "    </tr>\n",
              "    <tr>\n",
              "      <th>7</th>\n",
              "      <td>8</td>\n",
              "      <td>'15'</td>\n",
              "      <td>2002</td>\n",
              "      <td>25</td>\n",
              "      <td>NaN</td>\n",
              "      <td>6.7</td>\n",
              "      <td>24</td>\n",
              "      <td>4.5</td>\n",
              "      <td>4.5</td>\n",
              "      <td>4.5</td>\n",
              "      <td>...</td>\n",
              "      <td>4.5</td>\n",
              "      <td>14.5</td>\n",
              "      <td>NaN</td>\n",
              "      <td>0</td>\n",
              "      <td>0</td>\n",
              "      <td>0</td>\n",
              "      <td>0</td>\n",
              "      <td>1</td>\n",
              "      <td>0</td>\n",
              "      <td>1</td>\n",
              "    </tr>\n",
              "    <tr>\n",
              "      <th>8</th>\n",
              "      <td>9</td>\n",
              "      <td>'38</td>\n",
              "      <td>1987</td>\n",
              "      <td>97</td>\n",
              "      <td>NaN</td>\n",
              "      <td>6.6</td>\n",
              "      <td>18</td>\n",
              "      <td>4.5</td>\n",
              "      <td>4.5</td>\n",
              "      <td>4.5</td>\n",
              "      <td>...</td>\n",
              "      <td>4.5</td>\n",
              "      <td>24.5</td>\n",
              "      <td>NaN</td>\n",
              "      <td>0</td>\n",
              "      <td>0</td>\n",
              "      <td>0</td>\n",
              "      <td>1</td>\n",
              "      <td>0</td>\n",
              "      <td>0</td>\n",
              "      <td>0</td>\n",
              "    </tr>\n",
              "    <tr>\n",
              "      <th>9</th>\n",
              "      <td>10</td>\n",
              "      <td>'49-'17</td>\n",
              "      <td>1917</td>\n",
              "      <td>61</td>\n",
              "      <td>NaN</td>\n",
              "      <td>6.0</td>\n",
              "      <td>51</td>\n",
              "      <td>4.5</td>\n",
              "      <td>0.0</td>\n",
              "      <td>4.5</td>\n",
              "      <td>...</td>\n",
              "      <td>4.5</td>\n",
              "      <td>4.5</td>\n",
              "      <td>NaN</td>\n",
              "      <td>0</td>\n",
              "      <td>0</td>\n",
              "      <td>0</td>\n",
              "      <td>0</td>\n",
              "      <td>0</td>\n",
              "      <td>0</td>\n",
              "      <td>0</td>\n",
              "    </tr>\n",
              "  </tbody>\n",
              "</table>\n",
              "<p>10 rows × 25 columns</p>\n",
              "</div>\n",
              "      <button class=\"colab-df-convert\" onclick=\"convertToInteractive('df-2a1978f3-f8c5-44d1-a977-943b9b866ea4')\"\n",
              "              title=\"Convert this dataframe to an interactive table.\"\n",
              "              style=\"display:none;\">\n",
              "        \n",
              "  <svg xmlns=\"http://www.w3.org/2000/svg\" height=\"24px\"viewBox=\"0 0 24 24\"\n",
              "       width=\"24px\">\n",
              "    <path d=\"M0 0h24v24H0V0z\" fill=\"none\"/>\n",
              "    <path d=\"M18.56 5.44l.94 2.06.94-2.06 2.06-.94-2.06-.94-.94-2.06-.94 2.06-2.06.94zm-11 1L8.5 8.5l.94-2.06 2.06-.94-2.06-.94L8.5 2.5l-.94 2.06-2.06.94zm10 10l.94 2.06.94-2.06 2.06-.94-2.06-.94-.94-2.06-.94 2.06-2.06.94z\"/><path d=\"M17.41 7.96l-1.37-1.37c-.4-.4-.92-.59-1.43-.59-.52 0-1.04.2-1.43.59L10.3 9.45l-7.72 7.72c-.78.78-.78 2.05 0 2.83L4 21.41c.39.39.9.59 1.41.59.51 0 1.02-.2 1.41-.59l7.78-7.78 2.81-2.81c.8-.78.8-2.07 0-2.86zM5.41 20L4 18.59l7.72-7.72 1.47 1.35L5.41 20z\"/>\n",
              "  </svg>\n",
              "      </button>\n",
              "      \n",
              "  <style>\n",
              "    .colab-df-container {\n",
              "      display:flex;\n",
              "      flex-wrap:wrap;\n",
              "      gap: 12px;\n",
              "    }\n",
              "\n",
              "    .colab-df-convert {\n",
              "      background-color: #E8F0FE;\n",
              "      border: none;\n",
              "      border-radius: 50%;\n",
              "      cursor: pointer;\n",
              "      display: none;\n",
              "      fill: #1967D2;\n",
              "      height: 32px;\n",
              "      padding: 0 0 0 0;\n",
              "      width: 32px;\n",
              "    }\n",
              "\n",
              "    .colab-df-convert:hover {\n",
              "      background-color: #E2EBFA;\n",
              "      box-shadow: 0px 1px 2px rgba(60, 64, 67, 0.3), 0px 1px 3px 1px rgba(60, 64, 67, 0.15);\n",
              "      fill: #174EA6;\n",
              "    }\n",
              "\n",
              "    [theme=dark] .colab-df-convert {\n",
              "      background-color: #3B4455;\n",
              "      fill: #D2E3FC;\n",
              "    }\n",
              "\n",
              "    [theme=dark] .colab-df-convert:hover {\n",
              "      background-color: #434B5C;\n",
              "      box-shadow: 0px 1px 3px 1px rgba(0, 0, 0, 0.15);\n",
              "      filter: drop-shadow(0px 1px 2px rgba(0, 0, 0, 0.3));\n",
              "      fill: #FFFFFF;\n",
              "    }\n",
              "  </style>\n",
              "\n",
              "      <script>\n",
              "        const buttonEl =\n",
              "          document.querySelector('#df-2a1978f3-f8c5-44d1-a977-943b9b866ea4 button.colab-df-convert');\n",
              "        buttonEl.style.display =\n",
              "          google.colab.kernel.accessAllowed ? 'block' : 'none';\n",
              "\n",
              "        async function convertToInteractive(key) {\n",
              "          const element = document.querySelector('#df-2a1978f3-f8c5-44d1-a977-943b9b866ea4');\n",
              "          const dataTable =\n",
              "            await google.colab.kernel.invokeFunction('convertToInteractive',\n",
              "                                                     [key], {});\n",
              "          if (!dataTable) return;\n",
              "\n",
              "          const docLinkHtml = 'Like what you see? Visit the ' +\n",
              "            '<a target=\"_blank\" href=https://colab.research.google.com/notebooks/data_table.ipynb>data table notebook</a>'\n",
              "            + ' to learn more about interactive tables.';\n",
              "          element.innerHTML = '';\n",
              "          dataTable['output_type'] = 'display_data';\n",
              "          await google.colab.output.renderOutput(dataTable, element);\n",
              "          const docLink = document.createElement('div');\n",
              "          docLink.innerHTML = docLinkHtml;\n",
              "          element.appendChild(docLink);\n",
              "        }\n",
              "      </script>\n",
              "    </div>\n",
              "  </div>\n",
              "  "
            ]
          },
          "metadata": {},
          "execution_count": 58
        }
      ]
    },
    {
      "cell_type": "code",
      "source": [
        "#dropping columns\n",
        "df=df.drop(columns=[ 'budget','mpaa'])\n"
      ],
      "metadata": {
        "id": "w0C_TXSsdVRs"
      },
      "execution_count": null,
      "outputs": []
    },
    {
      "cell_type": "code",
      "source": [
        "#renaming column\n",
        "df=df.rename({'Unnamed: 0': 'index'}, axis='columns')"
      ],
      "metadata": {
        "id": "bL9P66NfdVLt"
      },
      "execution_count": null,
      "outputs": []
    },
    {
      "cell_type": "code",
      "source": [
        "df.shape"
      ],
      "metadata": {
        "colab": {
          "base_uri": "https://localhost:8080/"
        },
        "id": "CkiZwNoLfbn4",
        "outputId": "d07eb642-07b7-4fbb-ca4f-fde407417ce5"
      },
      "execution_count": null,
      "outputs": [
        {
          "output_type": "execute_result",
          "data": {
            "text/plain": [
              "(58788, 23)"
            ]
          },
          "metadata": {},
          "execution_count": 61
        }
      ]
    },
    {
      "cell_type": "markdown",
      "source": [
        "# **TASK 1** - Exploratory Data Analysis"
      ],
      "metadata": {
        "id": "0cMtLrokuof_"
      }
    },
    {
      "cell_type": "markdown",
      "source": [
        "\n",
        "\n",
        "```\n",
        "```\n",
        "\n",
        "##What is the distribution of movie ratings in the dataset? Are the ratings normally distributed or skewed? Can you calculate the mean, median, and standard deviation of the ratings?"
      ],
      "metadata": {
        "id": "Ec0_MjBDkkJu"
      }
    },
    {
      "cell_type": "code",
      "source": [],
      "metadata": {
        "id": "0tywXRCfgDr5"
      },
      "execution_count": null,
      "outputs": []
    },
    {
      "cell_type": "code",
      "source": [
        "df.columns"
      ],
      "metadata": {
        "colab": {
          "base_uri": "https://localhost:8080/"
        },
        "id": "ZqC2Rev3e9La",
        "outputId": "4664ba6a-5cb9-42e8-8163-b4f6f30846a7"
      },
      "execution_count": null,
      "outputs": [
        {
          "output_type": "execute_result",
          "data": {
            "text/plain": [
              "Index(['index', 'title', 'year', 'length', 'rating', 'votes', 'r1', 'r2', 'r3',\n",
              "       'r4', 'r5', 'r6', 'r7', 'r8', 'r9', 'r10', 'Action', 'Animation',\n",
              "       'Comedy', 'Drama', 'Documentary', 'Romance', 'Short'],\n",
              "      dtype='object')"
            ]
          },
          "metadata": {},
          "execution_count": 62
        }
      ]
    },
    {
      "cell_type": "code",
      "source": [
        "df['index']"
      ],
      "metadata": {
        "colab": {
          "base_uri": "https://localhost:8080/"
        },
        "id": "H-X2mO7Ne9J2",
        "outputId": "c5b987e3-998c-4c69-fa54-48aefc2f611b"
      },
      "execution_count": null,
      "outputs": [
        {
          "output_type": "execute_result",
          "data": {
            "text/plain": [
              "0            1\n",
              "1            2\n",
              "2            3\n",
              "3            4\n",
              "4            5\n",
              "         ...  \n",
              "58783    58784\n",
              "58784    58785\n",
              "58785    58786\n",
              "58786    58787\n",
              "58787    58788\n",
              "Name: index, Length: 58788, dtype: int64"
            ]
          },
          "metadata": {},
          "execution_count": 63
        }
      ]
    },
    {
      "cell_type": "code",
      "source": [
        "ratings = df['rating']\n",
        "\n",
        "# Calculate mean, median, and standard deviation\n",
        "mean_rating = ratings.mean()\n",
        "median_rating = ratings.median()\n",
        "std_deviation = ratings.std()\n",
        "\n",
        "# Plot the distribution of ratings\n",
        "plt.hist(ratings, bins=10)\n",
        "plt.xlabel('Rating')\n",
        "plt.ylabel('Frequency')\n",
        "plt.title('Distribution of Movie Ratings')\n",
        "plt.show()\n",
        "\n"
      ],
      "metadata": {
        "id": "Vo4e7f6PvhVv",
        "colab": {
          "base_uri": "https://localhost:8080/",
          "height": 472
        },
        "outputId": "58f57fd3-e317-4c73-9a49-25d50b4c2e76"
      },
      "execution_count": null,
      "outputs": [
        {
          "output_type": "display_data",
          "data": {
            "text/plain": [
              "<Figure size 640x480 with 1 Axes>"
            ],
            "image/png": "[encoded data removed]"
          },
          "metadata": {}
        }
      ]
    },
    {
      "cell_type": "code",
      "source": [
        "#finding skewness\n",
        "df[['rating']].skew(axis = 0, skipna = True)"
      ],
      "metadata": {
        "colab": {
          "base_uri": "https://localhost:8080/"
        },
        "id": "VbSBbxETzeh6",
        "outputId": "a2e5ca9b-db72-4970-b55f-54a74a699a26"
      },
      "execution_count": null,
      "outputs": [
        {
          "output_type": "execute_result",
          "data": {
            "text/plain": [
              "rating   -0.405717\n",
              "dtype: float64"
            ]
          },
          "metadata": {},
          "execution_count": 65
        }
      ]
    },
    {
      "cell_type": "code",
      "source": [
        "# Print the mean, median, and standard deviation\n",
        "print(\"Mean Rating:\", mean_rating)\n",
        "print(\"Median Rating:\", median_rating)\n",
        "print(\"Standard Deviation:\", std_deviation)"
      ],
      "metadata": {
        "id": "5Jlm2VnhvhST",
        "colab": {
          "base_uri": "https://localhost:8080/"
        },
        "outputId": "77a69359-1ead-4652-9dcc-3ecf96f838e5"
      },
      "execution_count": null,
      "outputs": [
        {
          "output_type": "stream",
          "name": "stdout",
          "text": [
            "Mean Rating: 5.932850241545893\n",
            "Median Rating: 6.1\n",
            "Standard Deviation: 1.553030800154227\n"
          ]
        }
      ]
    },
    {
      "cell_type": "code",
      "source": [],
      "metadata": {
        "id": "BcLzu7h9ocxs"
      },
      "execution_count": null,
      "outputs": []
    },
    {
      "cell_type": "markdown",
      "source": [
        "**Summary: -** By examining the histogram and the mean, median, and standard deviation values, We can gain insights into the distribution of movie ratings. The distribution appears symmetrical and nearly bell-shaped, but the Skewness value also shows the rating column has very minor alignment towards the lower rating but from the distribution plot and Mean/Median values we can see that the overall rating is aligned towards mid-way rating between 5-7, which shows the data is almost normally distributed. Also the deviation in data is also very small."
      ],
      "metadata": {
        "id": "Vi7Aqi_OrJht"
      }
    },
    {
      "cell_type": "markdown",
      "source": [
        "##How does the movie genre (e.g., Action, Animation, Comedy, Drama, Documentary, Romance) affect the movie ratings? Can you compare the average ratings for different genres using a suitable plot, such as a bar plot or boxplot?"
      ],
      "metadata": {
        "id": "cPa96surrJOz"
      }
    },
    {
      "cell_type": "code",
      "source": [
        "#intermingling columns  Action, Animation, Comedy, Drama, Documentary, Romance,short into  single column genre"
      ],
      "metadata": {
        "id": "xB_9DeBJp2LO"
      },
      "execution_count": null,
      "outputs": []
    },
    {
      "cell_type": "code",
      "source": [
        "row_no = df.shape[0]\n",
        "genre = []\n",
        "for i in range(row_no):\n",
        "  if df['Action'][i] == 1:\n",
        "    genre.append(\"Action\")\n",
        "  elif df['Animation'][i] == 1:\n",
        "    genre.append(\"Animation\")\n",
        "  elif df['Comedy'][i] == 1:\n",
        "    genre.append(\"Comedy\")\n",
        "  elif df['Drama'][i] == 1:\n",
        "    genre.append(\"Drama\")\n",
        "  elif df['Documentary'][i] == 1:\n",
        "    genre.append(\"Documentary\")\n",
        "  elif df['Romance'][i] == 1:\n",
        "    genre.append(\"Romance\")\n",
        "  elif df['Short'][i] == 1:\n",
        "    genre.append(\"Short\")\n",
        "  else:\n",
        "    genre.append(\"None\")\n",
        "\n",
        "df['Genre'] = genre"
      ],
      "metadata": {
        "id": "4BB9XdGqp2Ie"
      },
      "execution_count": null,
      "outputs": []
    },
    {
      "cell_type": "code",
      "source": [
        "avg_ratings = df.groupby('Genre')['rating'].mean()\n",
        "avg_ratings"
      ],
      "metadata": {
        "id": "HktaYYj1wHeY",
        "colab": {
          "base_uri": "https://localhost:8080/"
        },
        "outputId": "26f368e1-8542-4644-8041-5cfbca8d5c34"
      },
      "execution_count": null,
      "outputs": [
        {
          "output_type": "execute_result",
          "data": {
            "text/plain": [
              "Genre\n",
              "Action         5.292022\n",
              "Animation      6.590627\n",
              "Comedy         5.872612\n",
              "Documentary    6.656645\n",
              "Drama          6.189352\n",
              "None           5.448045\n",
              "Romance        6.058276\n",
              "Short          6.287372\n",
              "Name: rating, dtype: float64"
            ]
          },
          "metadata": {},
          "execution_count": 69
        }
      ]
    },
    {
      "cell_type": "code",
      "source": [
        "#plotting a graph b/w average rating& genres\n",
        "avg_ratings = df.groupby('Genre')['rating'].mean()\n",
        "plt.bar(avg_ratings.index, avg_ratings.values)\n",
        "plt.xlabel('Genre')\n",
        "plt.ylabel('Average Rating')\n",
        "plt.title('Average Ratings by Genre')\n",
        "plt.xticks(rotation=45)\n",
        "plt.show()"
      ],
      "metadata": {
        "colab": {
          "base_uri": "https://localhost:8080/",
          "height": 534
        },
        "id": "h9kYlgagPhd6",
        "outputId": "8444f9b3-5b93-4204-d16a-58f18a37dfa7"
      },
      "execution_count": null,
      "outputs": [
        {
          "output_type": "display_data",
          "data": {
            "text/plain": [
              "<Figure size 640x480 with 1 Axes>"
            ],
            "image/png": "[encoded data removed]"
          },
          "metadata": {}
        }
      ]
    },
    {
      "cell_type": "markdown",
      "source": [
        "This bar plot shows that animation and documentary movies have a greater popularity among these genres."
      ],
      "metadata": {
        "id": "VuNtzxNHr25I"
      }
    },
    {
      "cell_type": "markdown",
      "source": [
        "**Summary: -** From this Bar Plot we can clearly see that Animation and Documentry genres have received the highest average rating while Action genre received the lowest average rating among all. Also There are also some movies found in the dataset which has not been tagged with any genre which we can consider as standalone. Apart from this remaining genres (Comedy, Drama, Romance and Short movie) also received nearly same average rating as compared to each other."
      ],
      "metadata": {
        "id": "l89qry68vkm3"
      }
    },
    {
      "cell_type": "markdown",
      "source": [
        "##Is there any relationship between the movie duration and its rating? Can you calculate the correlation coefficient between these variables and determine if there is a significant relationship?"
      ],
      "metadata": {
        "id": "UmtxT6Y9wbSY"
      }
    },
    {
      "cell_type": "code",
      "source": [],
      "metadata": {
        "id": "ja5wNdpUpAxx"
      },
      "execution_count": null,
      "outputs": []
    },
    {
      "cell_type": "code",
      "source": [
        "# Define duration ranges\n",
        "duration_ranges = [0, 60, 90, 120, 150, float('inf')]\n",
        "duration_labels = ['<60', '60-90', '90-120', '120-150', '>150']\n",
        "\n",
        "# Group movies into duration ranges and calculate average rating\n",
        "df['Duration'] = pd.cut(df['length'], bins=duration_ranges, labels=duration_labels)\n",
        "avg_rating = df.groupby('Duration')['rating'].mean()\n",
        "avg_rating\n",
        "\n"
      ],
      "metadata": {
        "id": "3oxc5YoApBCx",
        "colab": {
          "base_uri": "https://localhost:8080/"
        },
        "outputId": "d1d73b3b-2aa9-4a91-c095-2572a6987ab5"
      },
      "execution_count": null,
      "outputs": [
        {
          "output_type": "execute_result",
          "data": {
            "text/plain": [
              "Duration\n",
              "<60        6.414414\n",
              "60-90      5.575644\n",
              "90-120     5.867547\n",
              "120-150    6.706082\n",
              ">150       6.998009\n",
              "Name: rating, dtype: float64"
            ]
          },
          "metadata": {},
          "execution_count": 71
        }
      ]
    },
    {
      "cell_type": "code",
      "source": [
        "# Create a line plot b/w average rating & duration\n",
        "plt.plot(avg_rating.index, avg_rating.values, marker='x')\n",
        "\n",
        "\n",
        "plt.xlabel('Duration Range')\n",
        "plt.ylabel('Average Rating')\n",
        "plt.title('Average Ratings by Duration Range')\n",
        "plt.xticks(rotation=45)\n",
        "plt.show()"
      ],
      "metadata": {
        "colab": {
          "base_uri": "https://localhost:8080/",
          "height": 508
        },
        "id": "oGBHzF90QDSv",
        "outputId": "4c7c6288-7262-416c-feb0-bb0c834a3aff"
      },
      "execution_count": null,
      "outputs": [
        {
          "output_type": "display_data",
          "data": {
            "text/plain": [
              "<Figure size 640x480 with 1 Axes>"
            ],
            "image/png": "[encoded data removed]"
          },
          "metadata": {}
        }
      ]
    },
    {
      "cell_type": "code",
      "source": [
        "correlation = df['rating'].corr(df['length'])\n",
        "\n",
        "# Print the correlation coefficient\n",
        "print(\"The Correlation coefficient between rating and Duration of movie is:\", correlation)"
      ],
      "metadata": {
        "colab": {
          "base_uri": "https://localhost:8080/"
        },
        "id": "Ntf7zdA5tFtM",
        "outputId": "862d42a3-4b94-4dc2-b324-b11ceab6b6fc"
      },
      "execution_count": null,
      "outputs": [
        {
          "output_type": "stream",
          "name": "stdout",
          "text": [
            "The Correlation coefficient between rating and Duration of movie is: -0.030734414103833138\n"
          ]
        }
      ]
    },
    {
      "cell_type": "code",
      "source": [
        "from scipy.stats import pearsonr\n",
        "\n",
        "# Calculate the correlation coefficient and p-value\n",
        "correlation, p_value = pearsonr(df['rating'], df['length'])\n",
        "\n",
        "# Print the correlation coefficient and p-value\n",
        "print(\"The Correlation coefficient between rating and Duration of movie is:\", correlation)\n",
        "print(\"The Pearson coefficient (p-value) between rating and Duration of movie is:\", p_value)"
      ],
      "metadata": {
        "colab": {
          "base_uri": "https://localhost:8080/"
        },
        "id": "Ej7sbk6CtVxN",
        "outputId": "68d1c5f2-4b93-47b0-a91c-795920ec8662"
      },
      "execution_count": null,
      "outputs": [
        {
          "output_type": "stream",
          "name": "stdout",
          "text": [
            "The Correlation coefficient between rating and Duration of movie is: -0.03073441410383314\n",
            "The Pearson coefficient (p-value) between rating and Duration of movie is: 9.086772303813051e-14\n"
          ]
        }
      ]
    },
    {
      "cell_type": "markdown",
      "source": [
        "**Summary: -**  The correlation values comes out as a little less than zero which is because there are two duration Bins (60-90 & 90-120) which have the lowest rating than the rating of duration <60. This means as the duration increases rating decreases for these two duration BINS (60-90 & 90-120) as compared to BIN <60. But after that when duration increases the rating values increases. If we skip the first duration BIN (i.e. <60), then it clearly represent that if the duration increases the average rating value also increases.\n",
        "\n",
        "To understand more better on correlation, I have also calculated the pearson coeeficient (i.e. p-value) to represents the probability of obtaining the observed correlation coefficient if the null hypothesis (no correlation) is true. If the p-value is less than a chosen significance level (e.g., 0.05), it suggests that there is a significant relationship between movie duration and its rating."
      ],
      "metadata": {
        "id": "9ztqlg25vrs1"
      }
    },
    {
      "cell_type": "code",
      "source": [],
      "metadata": {
        "id": "ABNgSFJFtFkj"
      },
      "execution_count": null,
      "outputs": []
    },
    {
      "cell_type": "markdown",
      "source": [
        "##Are there any significant differences in the average ratings between old and new movies? Can you compare the average ratings for movies released before a certain year (e.g., 2000) and movies released after that year?->"
      ],
      "metadata": {
        "id": "VjYUkQCLwbSa"
      }
    },
    {
      "cell_type": "code",
      "source": [
        "cutoff_year = 2000\n",
        "\n",
        "# Create two groups based on the release year\n",
        "old_movies = df[df['year'] <= cutoff_year]\n",
        "new_movies = df[df['year'] > cutoff_year]\n",
        "avg_rating_old = old_movies['rating'].mean()\n",
        "\n",
        "# Calculate average ratings for new movies\n",
        "avg_rating_new = new_movies['rating'].mean()"
      ],
      "metadata": {
        "id": "CrTTrNYhwbSa"
      },
      "execution_count": null,
      "outputs": []
    },
    {
      "cell_type": "code",
      "source": [
        "from scipy import stats\n",
        "\n",
        "# Perform t-test\n",
        "t_statistic, p_value = stats.ttest_ind(old_movies['rating'], new_movies['rating'])\n",
        "\n",
        "# Print the results\n",
        "print(\"t-statistic:\", t_statistic)\n",
        "print(\"p-value:\", p_value)"
      ],
      "metadata": {
        "colab": {
          "base_uri": "https://localhost:8080/"
        },
        "id": "NbS--z54ZCYE",
        "outputId": "c1b5b678-e64d-42f0-b3a8-c2255a016972"
      },
      "execution_count": null,
      "outputs": [
        {
          "output_type": "stream",
          "name": "stdout",
          "text": [
            "t-statistic: -27.304784304814422\n",
            "p-value: 3.9036520145561285e-163\n"
          ]
        }
      ]
    },
    {
      "cell_type": "code",
      "source": [],
      "metadata": {
        "id": "nXNq5XjsZCWa"
      },
      "execution_count": null,
      "outputs": []
    },
    {
      "cell_type": "markdown",
      "source": [
        "Summarizing your analysis and observations\n",
        "\n",
        "> The t-test compares the means of the two groups and returns a t-statistic and a p-value. The p-value indicates the probability of observing the given difference in average ratings by chance. A small p-value (typically below a chosen significance level, e.g., 0.05) suggests a statistically significant difference in average ratings between old and new movies.\n",
        "\n"
      ],
      "metadata": {
        "id": "gr4VOY0gwbSa"
      }
    },
    {
      "cell_type": "markdown",
      "source": [
        "**Summary: -** The t-test compares the means of the two groups and returns a t-statistic and a p-value. The p-value indicates the probability of observing the given difference in average ratings by chance. A small p-value (typically below a chosen significance level, e.g., 0.05) suggests a statistically significant difference in average ratings between old and new movies.\n",
        "\n"
      ],
      "metadata": {
        "id": "WEPP0JKrwCwy"
      }
    },
    {
      "cell_type": "markdown",
      "source": [
        "##Can you identify the top-rated movies based on the average ratings across all genres? Can you create a list or plot to showcase the top-rated movies and their corresponding ratings?"
      ],
      "metadata": {
        "id": "VbWuvMbqwdgV"
      }
    },
    {
      "cell_type": "markdown",
      "source": [
        "Summarizing your analysis and observation"
      ],
      "metadata": {
        "id": "m8JUp2kAwdgh"
      }
    },
    {
      "cell_type": "code",
      "source": [
        "set(df['Genre'])"
      ],
      "metadata": {
        "colab": {
          "base_uri": "https://localhost:8080/"
        },
        "id": "6SOn7b_dwLAx",
        "outputId": "15c48eb5-a62a-4793-9030-1db1117b793f"
      },
      "execution_count": null,
      "outputs": [
        {
          "output_type": "execute_result",
          "data": {
            "text/plain": [
              "{'Action',\n",
              " 'Animation',\n",
              " 'Comedy',\n",
              " 'Documentary',\n",
              " 'Drama',\n",
              " 'None',\n",
              " 'Romance',\n",
              " 'Short'}"
            ]
          },
          "metadata": {},
          "execution_count": 77
        }
      ]
    },
    {
      "cell_type": "code",
      "source": [],
      "metadata": {
        "id": "nFed1Y2ywNWg"
      },
      "execution_count": null,
      "outputs": []
    },
    {
      "cell_type": "code",
      "source": [
        "# Calculate average rating for each movie\n",
        "avg_rating1 = df.groupby('title')['rating'].mean()\n",
        "\n",
        "# Sort movies based on average rating in descending order\n",
        "top_rated_movies = avg_rating1.sort_values(ascending=False)\n",
        "\n",
        "# Print the top-rated movies\n",
        "print(top_rated_movies.head(10))\n"
      ],
      "metadata": {
        "id": "WNy3P4C2wdgh",
        "colab": {
          "base_uri": "https://localhost:8080/"
        },
        "outputId": "5a0d56aa-8b6c-4123-d562-157c9f844cb1"
      },
      "execution_count": null,
      "outputs": [
        {
          "output_type": "stream",
          "name": "stdout",
          "text": [
            "title\n",
            "Fishing for Love                           10.0\n",
            "Dimensia Minds Trilogy: The Hope Factor    10.0\n",
            "Summer Sonata, A                           10.0\n",
            "Dimensia Minds Trilogy: The Reds            9.9\n",
            "Of Age                                      9.9\n",
            "Defilada                                    9.9\n",
            "Himala                                      9.9\n",
            "Shopping Part, The                          9.9\n",
            "Sky of an Archangel                         9.9\n",
            "New World, The                              9.9\n",
            "Name: rating, dtype: float64\n"
          ]
        }
      ]
    },
    {
      "cell_type": "code",
      "source": [
        "# Forming the dataframe based on the maximum rated movies across each genre.\n",
        "df_action = df[df['Genre']=='Action']\n",
        "df_action_max = df_action[df_action['rating']==max(df_action['rating'])]\n",
        "df_action_max = df_action_max.groupby('rating')['title'].apply(' -> '.join).reset_index()\n",
        "df_action_max['Genre'] = 'Action'\n",
        "df_action_max = df_action_max[['Genre','title','rating']]\n",
        "\n",
        "df_Animation = df[df['Genre']=='Animation']\n",
        "df_Animation_max = df_Animation[df_Animation['rating']==max(df_Animation['rating'])]\n",
        "df_Animation_max = df_Animation_max.groupby('rating')['title'].apply(' -> '.join).reset_index()\n",
        "df_Animation_max['Genre'] = 'Animation'\n",
        "df_Animation_max = df_Animation_max[['Genre','title','rating']]\n",
        "\n",
        "df_Comedy = df[df['Genre']=='Comedy']\n",
        "df_Comedy_max = df_Comedy[df_Comedy['rating']==max(df_Comedy['rating'])]\n",
        "df_Comedy_max = df_Comedy_max.groupby('rating')['title'].apply(' -> '.join).reset_index()\n",
        "df_Comedy_max['Genre'] = 'Comedy'\n",
        "df_Comedy_max = df_Comedy_max[['Genre','title','rating']]\n",
        "\n",
        "df_Documentary = df[df['Genre']=='Documentary']\n",
        "df_Documentary_max = df_Documentary[df_Documentary['rating']==max(df_Documentary['rating'])]\n",
        "df_Documentary_max = df_Documentary_max.groupby('rating')['title'].apply(' -> '.join).reset_index()\n",
        "df_Documentary_max['Genre'] = 'Documentary'\n",
        "df_Documentary_max = df_Documentary_max[['Genre','title','rating']]\n",
        "\n",
        "df_Drama = df[df['Genre']=='Drama']\n",
        "df_Drama_max = df_Drama[df_Drama['rating']==max(df_Drama['rating'])]\n",
        "df_Drama_max = df_Drama_max.groupby('rating')['title'].apply(' -> '.join).reset_index()\n",
        "df_Drama_max['Genre'] = 'Drama'\n",
        "df_Drama_max = df_Drama_max[['Genre','title','rating']]\n",
        "\n",
        "df_Romance = df[df['Genre']=='Romance']\n",
        "df_Romance_max = df_Romance[df_Romance['rating']==max(df_Romance['rating'])]\n",
        "df_Romance_max = df_Romance_max.groupby('rating')['title'].apply(' -> '.join).reset_index()\n",
        "df_Romance_max['Genre'] = 'Romance'\n",
        "df_Romance_max = df_Romance_max[['Genre','title','rating']]\n",
        "\n",
        "df_Short = df[df['Genre']=='Short']\n",
        "df_Short_max = df_Short[df_Short['rating']==max(df_Short['rating'])]\n",
        "df_Short_max = df_Short_max.groupby('rating')['title'].apply(' -> '.join).reset_index()\n",
        "df_Short_max['Genre'] = 'Short'\n",
        "df_Short_max = df_Short_max[['Genre','title','rating']]\n",
        "\n",
        "# Concating all the dataframe together\n",
        "max_rated_df = pd.concat([df_action_max, df_Animation_max, df_Comedy_max, df_Documentary_max, df_Drama_max, df_Romance_max, df_Short_max], axis=0)\n",
        "\n",
        "max_rated_df.reset_index(drop=True)\n"
      ],
      "metadata": {
        "colab": {
          "base_uri": "https://localhost:8080/",
          "height": 269
        },
        "id": "bhggYA33StQR",
        "outputId": "34439301-7ff5-486e-c08c-a711d1f331c9"
      },
      "execution_count": null,
      "outputs": [
        {
          "output_type": "execute_result",
          "data": {
            "text/plain": [
              "         Genre                                              title  rating\n",
              "0       Action  Clase z tropical -> Goodnite Charlie -> Leng m...     9.8\n",
              "1    Animation  Milton Is a Shitbag -> Mumi-troll i drugie -> ...     9.8\n",
              "2       Comedy                                   Fishing for Love    10.0\n",
              "3  Documentary                                           Defilada     9.9\n",
              "4        Drama                                   Summer Sonata, A    10.0\n",
              "5      Romance                          Deedar -> Eternal Embrace     9.6\n",
              "6        Short            Dimensia Minds Trilogy: The Hope Factor    10.0"
            ],
            "text/html": [
              "\n",
              "  <div id=\"df-d9fb1d66-60ed-4448-afed-930b86dbd095\">\n",
              "    <div class=\"colab-df-container\">\n",
              "      <div>\n",
              "<style scoped>\n",
              "    .dataframe tbody tr th:only-of-type {\n",
              "        vertical-align: middle;\n",
              "    }\n",
              "\n",
              "    .dataframe tbody tr th {\n",
              "        vertical-align: top;\n",
              "    }\n",
              "\n",
              "    .dataframe thead th {\n",
              "        text-align: right;\n",
              "    }\n",
              "</style>\n",
              "<table border=\"1\" class=\"dataframe\">\n",
              "  <thead>\n",
              "    <tr style=\"text-align: right;\">\n",
              "      <th></th>\n",
              "      <th>Genre</th>\n",
              "      <th>title</th>\n",
              "      <th>rating</th>\n",
              "    </tr>\n",
              "  </thead>\n",
              "  <tbody>\n",
              "    <tr>\n",
              "      <th>0</th>\n",
              "      <td>Action</td>\n",
              "      <td>Clase z tropical -&gt; Goodnite Charlie -&gt; Leng m...</td>\n",
              "      <td>9.8</td>\n",
              "    </tr>\n",
              "    <tr>\n",
              "      <th>1</th>\n",
              "      <td>Animation</td>\n",
              "      <td>Milton Is a Shitbag -&gt; Mumi-troll i drugie -&gt; ...</td>\n",
              "      <td>9.8</td>\n",
              "    </tr>\n",
              "    <tr>\n",
              "      <th>2</th>\n",
              "      <td>Comedy</td>\n",
              "      <td>Fishing for Love</td>\n",
              "      <td>10.0</td>\n",
              "    </tr>\n",
              "    <tr>\n",
              "      <th>3</th>\n",
              "      <td>Documentary</td>\n",
              "      <td>Defilada</td>\n",
              "      <td>9.9</td>\n",
              "    </tr>\n",
              "    <tr>\n",
              "      <th>4</th>\n",
              "      <td>Drama</td>\n",
              "      <td>Summer Sonata, A</td>\n",
              "      <td>10.0</td>\n",
              "    </tr>\n",
              "    <tr>\n",
              "      <th>5</th>\n",
              "      <td>Romance</td>\n",
              "      <td>Deedar -&gt; Eternal Embrace</td>\n",
              "      <td>9.6</td>\n",
              "    </tr>\n",
              "    <tr>\n",
              "      <th>6</th>\n",
              "      <td>Short</td>\n",
              "      <td>Dimensia Minds Trilogy: The Hope Factor</td>\n",
              "      <td>10.0</td>\n",
              "    </tr>\n",
              "  </tbody>\n",
              "</table>\n",
              "</div>\n",
              "      <button class=\"colab-df-convert\" onclick=\"convertToInteractive('df-d9fb1d66-60ed-4448-afed-930b86dbd095')\"\n",
              "              title=\"Convert this dataframe to an interactive table.\"\n",
              "              style=\"display:none;\">\n",
              "        \n",
              "  <svg xmlns=\"http://www.w3.org/2000/svg\" height=\"24px\"viewBox=\"0 0 24 24\"\n",
              "       width=\"24px\">\n",
              "    <path d=\"M0 0h24v24H0V0z\" fill=\"none\"/>\n",
              "    <path d=\"M18.56 5.44l.94 2.06.94-2.06 2.06-.94-2.06-.94-.94-2.06-.94 2.06-2.06.94zm-11 1L8.5 8.5l.94-2.06 2.06-.94-2.06-.94L8.5 2.5l-.94 2.06-2.06.94zm10 10l.94 2.06.94-2.06 2.06-.94-2.06-.94-.94-2.06-.94 2.06-2.06.94z\"/><path d=\"M17.41 7.96l-1.37-1.37c-.4-.4-.92-.59-1.43-.59-.52 0-1.04.2-1.43.59L10.3 9.45l-7.72 7.72c-.78.78-.78 2.05 0 2.83L4 21.41c.39.39.9.59 1.41.59.51 0 1.02-.2 1.41-.59l7.78-7.78 2.81-2.81c.8-.78.8-2.07 0-2.86zM5.41 20L4 18.59l7.72-7.72 1.47 1.35L5.41 20z\"/>\n",
              "  </svg>\n",
              "      </button>\n",
              "      \n",
              "  <style>\n",
              "    .colab-df-container {\n",
              "      display:flex;\n",
              "      flex-wrap:wrap;\n",
              "      gap: 12px;\n",
              "    }\n",
              "\n",
              "    .colab-df-convert {\n",
              "      background-color: #E8F0FE;\n",
              "      border: none;\n",
              "      border-radius: 50%;\n",
              "      cursor: pointer;\n",
              "      display: none;\n",
              "      fill: #1967D2;\n",
              "      height: 32px;\n",
              "      padding: 0 0 0 0;\n",
              "      width: 32px;\n",
              "    }\n",
              "\n",
              "    .colab-df-convert:hover {\n",
              "      background-color: #E2EBFA;\n",
              "      box-shadow: 0px 1px 2px rgba(60, 64, 67, 0.3), 0px 1px 3px 1px rgba(60, 64, 67, 0.15);\n",
              "      fill: #174EA6;\n",
              "    }\n",
              "\n",
              "    [theme=dark] .colab-df-convert {\n",
              "      background-color: #3B4455;\n",
              "      fill: #D2E3FC;\n",
              "    }\n",
              "\n",
              "    [theme=dark] .colab-df-convert:hover {\n",
              "      background-color: #434B5C;\n",
              "      box-shadow: 0px 1px 3px 1px rgba(0, 0, 0, 0.15);\n",
              "      filter: drop-shadow(0px 1px 2px rgba(0, 0, 0, 0.3));\n",
              "      fill: #FFFFFF;\n",
              "    }\n",
              "  </style>\n",
              "\n",
              "      <script>\n",
              "        const buttonEl =\n",
              "          document.querySelector('#df-d9fb1d66-60ed-4448-afed-930b86dbd095 button.colab-df-convert');\n",
              "        buttonEl.style.display =\n",
              "          google.colab.kernel.accessAllowed ? 'block' : 'none';\n",
              "\n",
              "        async function convertToInteractive(key) {\n",
              "          const element = document.querySelector('#df-d9fb1d66-60ed-4448-afed-930b86dbd095');\n",
              "          const dataTable =\n",
              "            await google.colab.kernel.invokeFunction('convertToInteractive',\n",
              "                                                     [key], {});\n",
              "          if (!dataTable) return;\n",
              "\n",
              "          const docLinkHtml = 'Like what you see? Visit the ' +\n",
              "            '<a target=\"_blank\" href=https://colab.research.google.com/notebooks/data_table.ipynb>data table notebook</a>'\n",
              "            + ' to learn more about interactive tables.';\n",
              "          element.innerHTML = '';\n",
              "          dataTable['output_type'] = 'display_data';\n",
              "          await google.colab.output.renderOutput(dataTable, element);\n",
              "          const docLink = document.createElement('div');\n",
              "          docLink.innerHTML = docLinkHtml;\n",
              "          element.appendChild(docLink);\n",
              "        }\n",
              "      </script>\n",
              "    </div>\n",
              "  </div>\n",
              "  "
            ]
          },
          "metadata": {},
          "execution_count": 79
        }
      ]
    },
    {
      "cell_type": "markdown",
      "source": [
        "**Summary: -**  The above table will show the list of maximum rated movie across each genre along with it's maximum rating"
      ],
      "metadata": {
        "id": "0UH-GTi1wWXB"
      }
    },
    {
      "cell_type": "markdown",
      "source": [
        "# **TASK 2** - Classification/Regression"
      ],
      "metadata": {
        "id": "Ox8z7yNIwosG"
      }
    },
    {
      "cell_type": "markdown",
      "source": [
        "Perform following steps on the same dataset which you used for EDA.\n",
        "> - Data Preprocessing (as per requirement)\n",
        "> - Feature Engineering\n",
        "> - Split dataset in train-test (80:20 ratio)\n",
        "> - Model selection\n",
        "> - Model training\n",
        "> - Model evaluation\n",
        "> - Fine-tune the Model\n",
        "> - Make predictions\n",
        "\n",
        "Summarize your model's performance by evaluation metrices\n",
        "\n"
      ],
      "metadata": {
        "id": "glXi_qALwz7v"
      }
    },
    {
      "cell_type": "code",
      "source": [
        "#after data preprocessing\n",
        "df.columns\n",
        "\n",
        "\n"
      ],
      "metadata": {
        "id": "WD-1y4zYkw10",
        "colab": {
          "base_uri": "https://localhost:8080/"
        },
        "outputId": "aadd6a1b-5b20-42ed-a2cd-1c89b606acf8"
      },
      "execution_count": null,
      "outputs": [
        {
          "output_type": "execute_result",
          "data": {
            "text/plain": [
              "Index(['index', 'title', 'year', 'length', 'rating', 'votes', 'r1', 'r2', 'r3',\n",
              "       'r4', 'r5', 'r6', 'r7', 'r8', 'r9', 'r10', 'Action', 'Animation',\n",
              "       'Comedy', 'Drama', 'Documentary', 'Romance', 'Short', 'Genre',\n",
              "       'Duration'],\n",
              "      dtype='object')"
            ]
          },
          "metadata": {},
          "execution_count": 80
        }
      ]
    },
    {
      "cell_type": "code",
      "source": [
        "df.head()"
      ],
      "metadata": {
        "colab": {
          "base_uri": "https://localhost:8080/",
          "height": 235
        },
        "id": "r2oQh8pxmHK4",
        "outputId": "2567d823-ad53-49dd-a3ac-e4d9e4beebe6"
      },
      "execution_count": null,
      "outputs": [
        {
          "output_type": "execute_result",
          "data": {
            "text/plain": [
              "   index                     title  year  length  rating  votes    r1    r2  \\\n",
              "0      1                         $  1971     121     6.4    348   4.5   4.5   \n",
              "1      2         $1000 a Touchdown  1939      71     6.0     20   0.0  14.5   \n",
              "2      3    $21 a Day Once a Month  1941       7     8.2      5   0.0   0.0   \n",
              "3      4                   $40,000  1996      70     8.2      6  14.5   0.0   \n",
              "4      5  $50,000 Climax Show, The  1975      71     3.4     17  24.5   4.5   \n",
              "\n",
              "    r3    r4  ...   r10  Action  Animation  Comedy  Drama  Documentary  \\\n",
              "0  4.5   4.5  ...   4.5       0          0       1      1            0   \n",
              "1  4.5  24.5  ...  14.5       0          0       1      0            0   \n",
              "2  0.0   0.0  ...  24.5       0          1       0      0            0   \n",
              "3  0.0   0.0  ...  45.5       0          0       1      0            0   \n",
              "4  0.0  14.5  ...  24.5       0          0       0      0            0   \n",
              "\n",
              "   Romance  Short      Genre  Duration  \n",
              "0        0      0     Comedy   120-150  \n",
              "1        0      0     Comedy     60-90  \n",
              "2        0      1  Animation       <60  \n",
              "3        0      0     Comedy     60-90  \n",
              "4        0      0       None     60-90  \n",
              "\n",
              "[5 rows x 25 columns]"
            ],
            "text/html": [
              "\n",
              "  <div id=\"df-92d278df-f406-4eea-9461-b09af0d60054\">\n",
              "    <div class=\"colab-df-container\">\n",
              "      <div>\n",
              "<style scoped>\n",
              "    .dataframe tbody tr th:only-of-type {\n",
              "        vertical-align: middle;\n",
              "    }\n",
              "\n",
              "    .dataframe tbody tr th {\n",
              "        vertical-align: top;\n",
              "    }\n",
              "\n",
              "    .dataframe thead th {\n",
              "        text-align: right;\n",
              "    }\n",
              "</style>\n",
              "<table border=\"1\" class=\"dataframe\">\n",
              "  <thead>\n",
              "    <tr style=\"text-align: right;\">\n",
              "      <th></th>\n",
              "      <th>index</th>\n",
              "      <th>title</th>\n",
              "      <th>year</th>\n",
              "      <th>length</th>\n",
              "      <th>rating</th>\n",
              "      <th>votes</th>\n",
              "      <th>r1</th>\n",
              "      <th>r2</th>\n",
              "      <th>r3</th>\n",
              "      <th>r4</th>\n",
              "      <th>...</th>\n",
              "      <th>r10</th>\n",
              "      <th>Action</th>\n",
              "      <th>Animation</th>\n",
              "      <th>Comedy</th>\n",
              "      <th>Drama</th>\n",
              "      <th>Documentary</th>\n",
              "      <th>Romance</th>\n",
              "      <th>Short</th>\n",
              "      <th>Genre</th>\n",
              "      <th>Duration</th>\n",
              "    </tr>\n",
              "  </thead>\n",
              "  <tbody>\n",
              "    <tr>\n",
              "      <th>0</th>\n",
              "      <td>1</td>\n",
              "      <td>$</td>\n",
              "      <td>1971</td>\n",
              "      <td>121</td>\n",
              "      <td>6.4</td>\n",
              "      <td>348</td>\n",
              "      <td>4.5</td>\n",
              "      <td>4.5</td>\n",
              "      <td>4.5</td>\n",
              "      <td>4.5</td>\n",
              "      <td>...</td>\n",
              "      <td>4.5</td>\n",
              "      <td>0</td>\n",
              "      <td>0</td>\n",
              "      <td>1</td>\n",
              "      <td>1</td>\n",
              "      <td>0</td>\n",
              "      <td>0</td>\n",
              "      <td>0</td>\n",
              "      <td>Comedy</td>\n",
              "      <td>120-150</td>\n",
              "    </tr>\n",
              "    <tr>\n",
              "      <th>1</th>\n",
              "      <td>2</td>\n",
              "      <td>$1000 a Touchdown</td>\n",
              "      <td>1939</td>\n",
              "      <td>71</td>\n",
              "      <td>6.0</td>\n",
              "      <td>20</td>\n",
              "      <td>0.0</td>\n",
              "      <td>14.5</td>\n",
              "      <td>4.5</td>\n",
              "      <td>24.5</td>\n",
              "      <td>...</td>\n",
              "      <td>14.5</td>\n",
              "      <td>0</td>\n",
              "      <td>0</td>\n",
              "      <td>1</td>\n",
              "      <td>0</td>\n",
              "      <td>0</td>\n",
              "      <td>0</td>\n",
              "      <td>0</td>\n",
              "      <td>Comedy</td>\n",
              "      <td>60-90</td>\n",
              "    </tr>\n",
              "    <tr>\n",
              "      <th>2</th>\n",
              "      <td>3</td>\n",
              "      <td>$21 a Day Once a Month</td>\n",
              "      <td>1941</td>\n",
              "      <td>7</td>\n",
              "      <td>8.2</td>\n",
              "      <td>5</td>\n",
              "      <td>0.0</td>\n",
              "      <td>0.0</td>\n",
              "      <td>0.0</td>\n",
              "      <td>0.0</td>\n",
              "      <td>...</td>\n",
              "      <td>24.5</td>\n",
              "      <td>0</td>\n",
              "      <td>1</td>\n",
              "      <td>0</td>\n",
              "      <td>0</td>\n",
              "      <td>0</td>\n",
              "      <td>0</td>\n",
              "      <td>1</td>\n",
              "      <td>Animation</td>\n",
              "      <td>&lt;60</td>\n",
              "    </tr>\n",
              "    <tr>\n",
              "      <th>3</th>\n",
              "      <td>4</td>\n",
              "      <td>$40,000</td>\n",
              "      <td>1996</td>\n",
              "      <td>70</td>\n",
              "      <td>8.2</td>\n",
              "      <td>6</td>\n",
              "      <td>14.5</td>\n",
              "      <td>0.0</td>\n",
              "      <td>0.0</td>\n",
              "      <td>0.0</td>\n",
              "      <td>...</td>\n",
              "      <td>45.5</td>\n",
              "      <td>0</td>\n",
              "      <td>0</td>\n",
              "      <td>1</td>\n",
              "      <td>0</td>\n",
              "      <td>0</td>\n",
              "      <td>0</td>\n",
              "      <td>0</td>\n",
              "      <td>Comedy</td>\n",
              "      <td>60-90</td>\n",
              "    </tr>\n",
              "    <tr>\n",
              "      <th>4</th>\n",
              "      <td>5</td>\n",
              "      <td>$50,000 Climax Show, The</td>\n",
              "      <td>1975</td>\n",
              "      <td>71</td>\n",
              "      <td>3.4</td>\n",
              "      <td>17</td>\n",
              "      <td>24.5</td>\n",
              "      <td>4.5</td>\n",
              "      <td>0.0</td>\n",
              "      <td>14.5</td>\n",
              "      <td>...</td>\n",
              "      <td>24.5</td>\n",
              "      <td>0</td>\n",
              "      <td>0</td>\n",
              "      <td>0</td>\n",
              "      <td>0</td>\n",
              "      <td>0</td>\n",
              "      <td>0</td>\n",
              "      <td>0</td>\n",
              "      <td>None</td>\n",
              "      <td>60-90</td>\n",
              "    </tr>\n",
              "  </tbody>\n",
              "</table>\n",
              "<p>5 rows × 25 columns</p>\n",
              "</div>\n",
              "      <button class=\"colab-df-convert\" onclick=\"convertToInteractive('df-92d278df-f406-4eea-9461-b09af0d60054')\"\n",
              "              title=\"Convert this dataframe to an interactive table.\"\n",
              "              style=\"display:none;\">\n",
              "        \n",
              "  <svg xmlns=\"http://www.w3.org/2000/svg\" height=\"24px\"viewBox=\"0 0 24 24\"\n",
              "       width=\"24px\">\n",
              "    <path d=\"M0 0h24v24H0V0z\" fill=\"none\"/>\n",
              "    <path d=\"M18.56 5.44l.94 2.06.94-2.06 2.06-.94-2.06-.94-.94-2.06-.94 2.06-2.06.94zm-11 1L8.5 8.5l.94-2.06 2.06-.94-2.06-.94L8.5 2.5l-.94 2.06-2.06.94zm10 10l.94 2.06.94-2.06 2.06-.94-2.06-.94-.94-2.06-.94 2.06-2.06.94z\"/><path d=\"M17.41 7.96l-1.37-1.37c-.4-.4-.92-.59-1.43-.59-.52 0-1.04.2-1.43.59L10.3 9.45l-7.72 7.72c-.78.78-.78 2.05 0 2.83L4 21.41c.39.39.9.59 1.41.59.51 0 1.02-.2 1.41-.59l7.78-7.78 2.81-2.81c.8-.78.8-2.07 0-2.86zM5.41 20L4 18.59l7.72-7.72 1.47 1.35L5.41 20z\"/>\n",
              "  </svg>\n",
              "      </button>\n",
              "      \n",
              "  <style>\n",
              "    .colab-df-container {\n",
              "      display:flex;\n",
              "      flex-wrap:wrap;\n",
              "      gap: 12px;\n",
              "    }\n",
              "\n",
              "    .colab-df-convert {\n",
              "      background-color: #E8F0FE;\n",
              "      border: none;\n",
              "      border-radius: 50%;\n",
              "      cursor: pointer;\n",
              "      display: none;\n",
              "      fill: #1967D2;\n",
              "      height: 32px;\n",
              "      padding: 0 0 0 0;\n",
              "      width: 32px;\n",
              "    }\n",
              "\n",
              "    .colab-df-convert:hover {\n",
              "      background-color: #E2EBFA;\n",
              "      box-shadow: 0px 1px 2px rgba(60, 64, 67, 0.3), 0px 1px 3px 1px rgba(60, 64, 67, 0.15);\n",
              "      fill: #174EA6;\n",
              "    }\n",
              "\n",
              "    [theme=dark] .colab-df-convert {\n",
              "      background-color: #3B4455;\n",
              "      fill: #D2E3FC;\n",
              "    }\n",
              "\n",
              "    [theme=dark] .colab-df-convert:hover {\n",
              "      background-color: #434B5C;\n",
              "      box-shadow: 0px 1px 3px 1px rgba(0, 0, 0, 0.15);\n",
              "      filter: drop-shadow(0px 1px 2px rgba(0, 0, 0, 0.3));\n",
              "      fill: #FFFFFF;\n",
              "    }\n",
              "  </style>\n",
              "\n",
              "      <script>\n",
              "        const buttonEl =\n",
              "          document.querySelector('#df-92d278df-f406-4eea-9461-b09af0d60054 button.colab-df-convert');\n",
              "        buttonEl.style.display =\n",
              "          google.colab.kernel.accessAllowed ? 'block' : 'none';\n",
              "\n",
              "        async function convertToInteractive(key) {\n",
              "          const element = document.querySelector('#df-92d278df-f406-4eea-9461-b09af0d60054');\n",
              "          const dataTable =\n",
              "            await google.colab.kernel.invokeFunction('convertToInteractive',\n",
              "                                                     [key], {});\n",
              "          if (!dataTable) return;\n",
              "\n",
              "          const docLinkHtml = 'Like what you see? Visit the ' +\n",
              "            '<a target=\"_blank\" href=https://colab.research.google.com/notebooks/data_table.ipynb>data table notebook</a>'\n",
              "            + ' to learn more about interactive tables.';\n",
              "          element.innerHTML = '';\n",
              "          dataTable['output_type'] = 'display_data';\n",
              "          await google.colab.output.renderOutput(dataTable, element);\n",
              "          const docLink = document.createElement('div');\n",
              "          docLink.innerHTML = docLinkHtml;\n",
              "          element.appendChild(docLink);\n",
              "        }\n",
              "      </script>\n",
              "    </div>\n",
              "  </div>\n",
              "  "
            ]
          },
          "metadata": {},
          "execution_count": 81
        }
      ]
    },
    {
      "cell_type": "code",
      "source": [
        "#checking for nan values\n",
        "df.isna().sum()"
      ],
      "metadata": {
        "colab": {
          "base_uri": "https://localhost:8080/"
        },
        "id": "dsmB--4hThDY",
        "outputId": "bb17a903-8d35-4805-c6e9-2821a37de093"
      },
      "execution_count": null,
      "outputs": [
        {
          "output_type": "execute_result",
          "data": {
            "text/plain": [
              "index          0\n",
              "title          0\n",
              "year           0\n",
              "length         0\n",
              "rating         0\n",
              "votes          0\n",
              "r1             0\n",
              "r2             0\n",
              "r3             0\n",
              "r4             0\n",
              "r5             0\n",
              "r6             0\n",
              "r7             0\n",
              "r8             0\n",
              "r9             0\n",
              "r10            0\n",
              "Action         0\n",
              "Animation      0\n",
              "Comedy         0\n",
              "Drama          0\n",
              "Documentary    0\n",
              "Romance        0\n",
              "Short          0\n",
              "Genre          0\n",
              "Duration       0\n",
              "dtype: int64"
            ]
          },
          "metadata": {},
          "execution_count": 82
        }
      ]
    },
    {
      "cell_type": "code",
      "source": [
        "#importing linear regression and train_test split\n",
        "from sklearn.model_selection import train_test_split\n",
        "from sklearn.linear_model import LinearRegression\n"
      ],
      "metadata": {
        "id": "J2t6q9hwxCIc"
      },
      "execution_count": null,
      "outputs": []
    },
    {
      "cell_type": "code",
      "source": [
        "#feature selection\n",
        "selected_columns = ['Genre', 'title', 'length', 'rating']\n",
        "\n",
        "# Filter the dataset with selected columns\n",
        "df_selected = df[selected_columns]\n",
        "\n",
        "# Drop rows with missing values\n",
        "df_selected = df_selected.dropna()\n",
        "\n",
        "# Create the feature matrix X and the target variable y\n",
        "X = df_selected[['length']]\n",
        "y = df_selected['rating']\n",
        "\n"
      ],
      "metadata": {
        "id": "ufE7PoLwm6og"
      },
      "execution_count": null,
      "outputs": []
    },
    {
      "cell_type": "code",
      "source": [
        "plt.scatter(X, y)\n",
        "plt.show()"
      ],
      "metadata": {
        "colab": {
          "base_uri": "https://localhost:8080/",
          "height": 430
        },
        "id": "bE56hTQ1UXQH",
        "outputId": "4b057aa2-5236-4d4d-b019-447781dc33c5"
      },
      "execution_count": null,
      "outputs": [
        {
          "output_type": "display_data",
          "data": {
            "text/plain": [
              "<Figure size 640x480 with 1 Axes>"
            ],
            "image/png": "[encoded data removed]"
          },
          "metadata": {}
        }
      ]
    },
    {
      "cell_type": "code",
      "source": [
        "X.shape"
      ],
      "metadata": {
        "colab": {
          "base_uri": "https://localhost:8080/"
        },
        "id": "3iEXaLwrUkJh",
        "outputId": "b68108b7-e558-45ae-a5ca-9840ba2c6e8c"
      },
      "execution_count": null,
      "outputs": [
        {
          "output_type": "execute_result",
          "data": {
            "text/plain": [
              "(58788, 1)"
            ]
          },
          "metadata": {},
          "execution_count": 86
        }
      ]
    },
    {
      "cell_type": "code",
      "source": [
        "# Perform train-test split 80-20\n",
        "X_train, X_test, y_train, y_test = train_test_split(X, y, test_size=0.2,random_state=10)\n"
      ],
      "metadata": {
        "id": "0FTjilpYUV7H"
      },
      "execution_count": null,
      "outputs": []
    },
    {
      "cell_type": "code",
      "source": [
        "X_train.shape, y_train.shape"
      ],
      "metadata": {
        "colab": {
          "base_uri": "https://localhost:8080/"
        },
        "id": "4JKk9Edpc8AE",
        "outputId": "71dcee64-ee6e-4341-f3d4-c262ea39b6e2"
      },
      "execution_count": null,
      "outputs": [
        {
          "output_type": "execute_result",
          "data": {
            "text/plain": [
              "((47030, 1), (47030,))"
            ]
          },
          "metadata": {},
          "execution_count": 100
        }
      ]
    },
    {
      "cell_type": "code",
      "source": [
        "X_test.shape, y_test.shape"
      ],
      "metadata": {
        "colab": {
          "base_uri": "https://localhost:8080/"
        },
        "id": "Hrvjb6FfVCL3",
        "outputId": "02de59f8-8c6b-41b1-9921-08e017014678"
      },
      "execution_count": null,
      "outputs": [
        {
          "output_type": "execute_result",
          "data": {
            "text/plain": [
              "((11758, 1), (11758,))"
            ]
          },
          "metadata": {},
          "execution_count": 101
        }
      ]
    },
    {
      "cell_type": "code",
      "source": [
        "model=LinearRegression()\n",
        "\n",
        "model.fit(X_train, y_train)\n",
        "\n",
        "# Make predictions on the test set\n",
        "\n"
      ],
      "metadata": {
        "colab": {
          "base_uri": "https://localhost:8080/",
          "height": 75
        },
        "id": "wyyS_7t6dAzO",
        "outputId": "fb53e42a-a1c0-44e8-bb00-4a79565b1956"
      },
      "execution_count": null,
      "outputs": [
        {
          "output_type": "execute_result",
          "data": {
            "text/plain": [
              "LinearRegression()"
            ],
            "text/html": [
              "<style>#sk-container-id-3 {color: black;background-color: white;}#sk-container-id-3 pre{padding: 0;}#sk-container-id-3 div.sk-toggleable {background-color: white;}#sk-container-id-3 label.sk-toggleable__label {cursor: pointer;display: block;width: 100%;margin-bottom: 0;padding: 0.3em;box-sizing: border-box;text-align: center;}#sk-container-id-3 label.sk-toggleable__label-arrow:before {content: \"▸\";float: left;margin-right: 0.25em;color: #696969;}#sk-container-id-3 label.sk-toggleable__label-arrow:hover:before {color: black;}#sk-container-id-3 div.sk-estimator:hover label.sk-toggleable__label-arrow:before {color: black;}#sk-container-id-3 div.sk-toggleable__content {max-height: 0;max-width: 0;overflow: hidden;text-align: left;background-color: #f0f8ff;}#sk-container-id-3 div.sk-toggleable__content pre {margin: 0.2em;color: black;border-radius: 0.25em;background-color: #f0f8ff;}#sk-container-id-3 input.sk-toggleable__control:checked~div.sk-toggleable__content {max-height: 200px;max-width: 100%;overflow: auto;}#sk-container-id-3 input.sk-toggleable__control:checked~label.sk-toggleable__label-arrow:before {content: \"▾\";}#sk-container-id-3 div.sk-estimator input.sk-toggleable__control:checked~label.sk-toggleable__label {background-color: #d4ebff;}#sk-container-id-3 div.sk-label input.sk-toggleable__control:checked~label.sk-toggleable__label {background-color: #d4ebff;}#sk-container-id-3 input.sk-hidden--visually {border: 0;clip: rect(1px 1px 1px 1px);clip: rect(1px, 1px, 1px, 1px);height: 1px;margin: -1px;overflow: hidden;padding: 0;position: absolute;width: 1px;}#sk-container-id-3 div.sk-estimator {font-family: monospace;background-color: #f0f8ff;border: 1px dotted black;border-radius: 0.25em;box-sizing: border-box;margin-bottom: 0.5em;}#sk-container-id-3 div.sk-estimator:hover {background-color: #d4ebff;}#sk-container-id-3 div.sk-parallel-item::after {content: \"\";width: 100%;border-bottom: 1px solid gray;flex-grow: 1;}#sk-container-id-3 div.sk-label:hover label.sk-toggleable__label {background-color: #d4ebff;}#sk-container-id-3 div.sk-serial::before {content: \"\";position: absolute;border-left: 1px solid gray;box-sizing: border-box;top: 0;bottom: 0;left: 50%;z-index: 0;}#sk-container-id-3 div.sk-serial {display: flex;flex-direction: column;align-items: center;background-color: white;padding-right: 0.2em;padding-left: 0.2em;position: relative;}#sk-container-id-3 div.sk-item {position: relative;z-index: 1;}#sk-container-id-3 div.sk-parallel {display: flex;align-items: stretch;justify-content: center;background-color: white;position: relative;}#sk-container-id-3 div.sk-item::before, #sk-container-id-3 div.sk-parallel-item::before {content: \"\";position: absolute;border-left: 1px solid gray;box-sizing: border-box;top: 0;bottom: 0;left: 50%;z-index: -1;}#sk-container-id-3 div.sk-parallel-item {display: flex;flex-direction: column;z-index: 1;position: relative;background-color: white;}#sk-container-id-3 div.sk-parallel-item:first-child::after {align-self: flex-end;width: 50%;}#sk-container-id-3 div.sk-parallel-item:last-child::after {align-self: flex-start;width: 50%;}#sk-container-id-3 div.sk-parallel-item:only-child::after {width: 0;}#sk-container-id-3 div.sk-dashed-wrapped {border: 1px dashed gray;margin: 0 0.4em 0.5em 0.4em;box-sizing: border-box;padding-bottom: 0.4em;background-color: white;}#sk-container-id-3 div.sk-label label {font-family: monospace;font-weight: bold;display: inline-block;line-height: 1.2em;}#sk-container-id-3 div.sk-label-container {text-align: center;}#sk-container-id-3 div.sk-container {/* jupyter's `normalize.less` sets `[hidden] { display: none; }` but bootstrap.min.css set `[hidden] { display: none !important; }` so we also need the `!important` here to be able to override the default hidden behavior on the sphinx rendered scikit-learn.org. See: https://github.com/scikit-learn/scikit-learn/issues/21755 */display: inline-block !important;position: relative;}#sk-container-id-3 div.sk-text-repr-fallback {display: none;}</style><div id=\"sk-container-id-3\" class=\"sk-top-container\"><div class=\"sk-text-repr-fallback\"><pre>LinearRegression()</pre><b>In a Jupyter environment, please rerun this cell to show the HTML representation or trust the notebook. <br />On GitHub, the HTML representation is unable to render, please try loading this page with nbviewer.org.</b></div><div class=\"sk-container\" hidden><div class=\"sk-item\"><div class=\"sk-estimator sk-toggleable\"><input class=\"sk-toggleable__control sk-hidden--visually\" id=\"sk-estimator-id-3\" type=\"checkbox\" checked><label for=\"sk-estimator-id-3\" class=\"sk-toggleable__label sk-toggleable__label-arrow\">LinearRegression</label><div class=\"sk-toggleable__content\"><pre>LinearRegression()</pre></div></div></div></div></div>"
            ]
          },
          "metadata": {},
          "execution_count": 102
        }
      ]
    },
    {
      "cell_type": "code",
      "source": [
        "model.coef_"
      ],
      "metadata": {
        "colab": {
          "base_uri": "https://localhost:8080/"
        },
        "id": "qxVeobk4UBmh",
        "outputId": "6c6d5281-0ef4-4fb8-988f-ccd8021f77f9"
      },
      "execution_count": null,
      "outputs": [
        {
          "output_type": "execute_result",
          "data": {
            "text/plain": [
              "array([-0.00097051])"
            ]
          },
          "metadata": {},
          "execution_count": 103
        }
      ]
    },
    {
      "cell_type": "code",
      "source": [
        "model.intercept_"
      ],
      "metadata": {
        "colab": {
          "base_uri": "https://localhost:8080/"
        },
        "id": "L9EiCdhBUy6k",
        "outputId": "c0a663f0-b006-4305-e17c-fd905d3b2570"
      },
      "execution_count": null,
      "outputs": [
        {
          "output_type": "execute_result",
          "data": {
            "text/plain": [
              "6.009780390624353"
            ]
          },
          "metadata": {},
          "execution_count": 104
        }
      ]
    },
    {
      "cell_type": "code",
      "source": [
        "y_pred = model.predict(X_test)\n",
        "\n",
        "# Print the predicted ratings\n",
        "print(\"Predicted Ratings:\")\n",
        "print(y_pred)"
      ],
      "metadata": {
        "colab": {
          "base_uri": "https://localhost:8080/"
        },
        "id": "FN611lPLl7Ul",
        "outputId": "e14a799d-4ca2-4da9-ee78-d54886922dbf"
      },
      "execution_count": null,
      "outputs": [
        {
          "output_type": "stream",
          "name": "stdout",
          "text": [
            "Predicted Ratings:\n",
            "[5.9631959  5.92146396 6.0010458  ... 5.92922804 5.9156409  5.9156409 ]\n"
          ]
        }
      ]
    },
    {
      "cell_type": "code",
      "source": [
        "model.score(X_train, y_train)"
      ],
      "metadata": {
        "id": "KC-4PFpuVSx_",
        "outputId": "910dcd7c-94ab-4ec8-e0f4-00be123ed84d",
        "colab": {
          "base_uri": "https://localhost:8080/"
        }
      },
      "execution_count": null,
      "outputs": [
        {
          "output_type": "execute_result",
          "data": {
            "text/plain": [
              "0.0008198905299697801"
            ]
          },
          "metadata": {},
          "execution_count": 106
        }
      ]
    },
    {
      "cell_type": "code",
      "source": [
        "model.score(X_test, y_test)"
      ],
      "metadata": {
        "colab": {
          "base_uri": "https://localhost:8080/"
        },
        "id": "7F4qT5yTVOB8",
        "outputId": "c925c734-ca54-4f74-a43a-705c078ca78a"
      },
      "execution_count": null,
      "outputs": [
        {
          "output_type": "execute_result",
          "data": {
            "text/plain": [
              "0.0013093128596746162"
            ]
          },
          "metadata": {},
          "execution_count": 107
        }
      ]
    },
    {
      "cell_type": "code",
      "source": [
        "#summarising model efficency"
      ],
      "metadata": {
        "id": "B-nLCoE7VNuK"
      },
      "execution_count": null,
      "outputs": []
    },
    {
      "cell_type": "code",
      "source": [
        "from sklearn.metrics import r2_score\n",
        "\n",
        "# Calculate R2 score\n",
        "r2 = r2_score(y_test, y_pred)\n",
        "print(\"R2 Score:\", r2)"
      ],
      "metadata": {
        "colab": {
          "base_uri": "https://localhost:8080/"
        },
        "id": "tGo6-5YRnPCo",
        "outputId": "b24de414-14b3-46cb-9d09-ef1372685c84"
      },
      "execution_count": null,
      "outputs": [
        {
          "output_type": "stream",
          "name": "stdout",
          "text": [
            "R2 Score: 0.0013093128596746162\n"
          ]
        }
      ]
    },
    {
      "cell_type": "code",
      "source": [],
      "metadata": {
        "id": "pJEC-rennsLg"
      },
      "execution_count": null,
      "outputs": []
    }
  ]
}